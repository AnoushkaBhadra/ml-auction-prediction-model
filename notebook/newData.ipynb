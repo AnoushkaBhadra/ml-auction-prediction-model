{
 "cells": [
  {
   "cell_type": "code",
   "execution_count": 2,
   "id": "b62b6b40",
   "metadata": {},
   "outputs": [],
   "source": [
    "import pandas as pd\n",
    "import numpy as np"
   ]
  },
  {
   "cell_type": "code",
   "execution_count": 3,
   "id": "2632e59d",
   "metadata": {},
   "outputs": [],
   "source": [
    "# NEW DATA\n",
    "new_df = pd.read_excel('../data/data_190626.xlsx')\n",
    "existing_df = pd.read_excel('../data/AuctionData.xlsx')\n"
   ]
  },
  {
   "cell_type": "code",
   "execution_count": 4,
   "id": "57352a89",
   "metadata": {},
   "outputs": [
    {
     "name": "stdout",
     "output_type": "stream",
     "text": [
      "['Catalogue_No', 'Auction_Date', 'Plant', 'Plant_Code', 'SCode', 'State', 'H1_Buyer_Name', 'Proposed_RP', 'Quantity', 'AuctUOM', 'Last_Bid_Price', 'total_amt', 'Material_Code', 'ProductDescription']\n",
      "['Catalogue_No', 'Auction_Date', 'Plant', 'Plant_Code', 'SCode', 'State', 'H1_Buyer_Name', 'Proposed_RP', 'Quantity', 'AuctUOM', 'Last_Bid_Price', 'total_amt', 'Material_Code', 'ProductDescription']\n"
     ]
    }
   ],
   "source": [
    "print(new_df.columns.tolist())\n",
    "print(existing_df.columns.tolist())"
   ]
  },
  {
   "cell_type": "code",
   "execution_count": 7,
   "id": "adee5348",
   "metadata": {},
   "outputs": [],
   "source": [
    "start_date = '2025-01-01'\n",
    "required_df = existing_df[existing_df['Auction_Date'] >= start_date]"
   ]
  },
  {
   "cell_type": "code",
   "execution_count": 8,
   "id": "62586dac",
   "metadata": {},
   "outputs": [
    {
     "name": "stdout",
     "output_type": "stream",
     "text": [
      "Filtered main data shape (382, 14)\n",
      "Data range in filtered main data 2025-01-03 00:00:00 to 2025-06-19 00:00:00\n"
     ]
    }
   ],
   "source": [
    "print(\"Filtered main data shape\", required_df.shape)\n",
    "print(\"Data range in filtered main data\", required_df['Auction_Date'].min(), \"to\", required_df['Auction_Date'].max())"
   ]
  },
  {
   "cell_type": "code",
   "execution_count": 13,
   "id": "06f8a96b",
   "metadata": {},
   "outputs": [
    {
     "name": "stdout",
     "output_type": "stream",
     "text": [
      "Merged dataset shape: (416, 14)\n",
      "Total unique dates: 102\n",
      "Date range in merged data:\n",
      "2025-01-03 00:00:00 to 2025-07-08 00:00:00\n"
     ]
    }
   ],
   "source": [
    "merged_df = pd.concat([new_df, required_df], ignore_index=True)\n",
    "print(\"Merged dataset shape:\", merged_df.shape)\n",
    "print(\"Total unique dates:\", merged_df['Auction_Date'].nunique())\n",
    "print(\"Date range in merged data:\")\n",
    "print(merged_df['Auction_Date'].min(), \"to\", merged_df['Auction_Date'].max())"
   ]
  },
  {
   "cell_type": "code",
   "execution_count": 14,
   "id": "15a0733c",
   "metadata": {},
   "outputs": [],
   "source": [
    "#SAVING DATA\n",
    "merged_df.to_excel('../data/merged_data.xlsx', index=False)"
   ]
  },
  {
   "cell_type": "code",
   "execution_count": 15,
   "id": "c03cec76",
   "metadata": {},
   "outputs": [
    {
     "name": "stdout",
     "output_type": "stream",
     "text": [
      "                        Catalogue_No Auction_Date           Plant Plant_Code  \\\n",
      "0  IOCL/1100/1171/2025-2026/306/5382   2025-07-03  Tikri Kalan BP       1171   \n",
      "1  IOCL/1300/1375/2025-2026/242/5341   2025-06-20    Jhunjhunu BP       1375   \n",
      "2  IOCL/1400/1470/2025-2026/249/5345   2025-06-23    Gorakhpur BP       1470   \n",
      "3  IOCL/1400/1470/2025-2026/251/5394   2025-07-03    Gorakhpur BP       1470   \n",
      "4  IOCL/1400/1470/2025-2026/251/5394   2025-07-03    Gorakhpur BP       1470   \n",
      "\n",
      "   SCode                   State                             H1_Buyer_Name  \\\n",
      "0   1100    Delhi & Haryana SO                       N C METALS AND ALLOYS   \n",
      "1   1300  Rajasthan State Office  BANSAL ALLOYS AND METALS PRIVATE LIMITED   \n",
      "2   1400      Uttar Pradesh SO I                       B M TRADING COMPANY   \n",
      "3   1400      Uttar Pradesh SO I        SUDHESH INDUSTRIES PRIVATE LIMITED   \n",
      "4   1400      Uttar Pradesh SO I        SUDHESH INDUSTRIES PRIVATE LIMITED   \n",
      "\n",
      "   Proposed_RP  Quantity AuctUOM  Last_Bid_Price  total_amt  Material_Code  \\\n",
      "0    188833.33     8.445      MT          196000  1972692.0      838911014   \n",
      "1     33033.33    27.203      MT           32200  1043942.0      838900104   \n",
      "2    522333.33    12.919      MT          553000  8514466.0      838881064   \n",
      "3     33966.67   132.789      MT           31900  5783781.0      838900104   \n",
      "4     33966.67    19.342      MT           31900  5783781.0      838903004   \n",
      "\n",
      "  ProductDescription  \n",
      "0                 PR  \n",
      "1            14.2 Kg  \n",
      "2           SC Valve  \n",
      "3            14.2 Kg  \n",
      "4              19 Kg  \n",
      "                          Catalogue_No Auction_Date            Plant  \\\n",
      "411  IOCL/4300/4373/2024-2025/290/4780   2025-01-06  Devanagunthi BP   \n",
      "412  IOCL/3100/3173/2024-2025/322/4774   2025-01-03     Bhavnagar BP   \n",
      "413  IOCL/3100/3173/2024-2025/322/4774   2025-01-03     Bhavnagar BP   \n",
      "414  IOCL/3100/3173/2024-2025/322/4774   2025-01-03     Bhavnagar BP   \n",
      "415  IOCL/3100/3173/2024-2025/322/4774   2025-01-03     Bhavnagar BP   \n",
      "\n",
      "    Plant_Code  SCode                   State  \\\n",
      "411       4373   4300  Karnataka State Office   \n",
      "412       3173   3100    Gujarat State Office   \n",
      "413       3173   3100    Gujarat State Office   \n",
      "414       3173   3100    Gujarat State Office   \n",
      "415       3173   3100    Gujarat State Office   \n",
      "\n",
      "                       H1_Buyer_Name  Proposed_RP  Quantity AuctUOM  \\\n",
      "411  True Values Trading Corporation    482000.00     6.153      MT   \n",
      "412             GHANSHYAM INDUSTRIES     32833.33     0.056      MT   \n",
      "413             GHANSHYAM INDUSTRIES     32833.33     0.976      MT   \n",
      "414             GHANSHYAM INDUSTRIES     32833.33    43.323      MT   \n",
      "415             GHANSHYAM INDUSTRIES     32833.33     9.538      MT   \n",
      "\n",
      "     Last_Bid_Price  total_amt  Material_Code ProductDescription  \n",
      "411          484000  3549243.0      838881064           SC Valve  \n",
      "412           33900  2177387.0      838900054             5 Kg    \n",
      "413           33900  2177387.0      838900494          5 Kg FTLR  \n",
      "414           33900  2177387.0      838900104            14.2 Kg  \n",
      "415           33900  2177387.0      838903004              19 Kg  \n",
      "<class 'pandas.core.frame.DataFrame'>\n",
      "RangeIndex: 416 entries, 0 to 415\n",
      "Data columns (total 14 columns):\n",
      " #   Column              Non-Null Count  Dtype         \n",
      "---  ------              --------------  -----         \n",
      " 0   Catalogue_No        416 non-null    object        \n",
      " 1   Auction_Date        416 non-null    datetime64[ns]\n",
      " 2   Plant               416 non-null    object        \n",
      " 3   Plant_Code          416 non-null    object        \n",
      " 4   SCode               416 non-null    int64         \n",
      " 5   State               416 non-null    object        \n",
      " 6   H1_Buyer_Name       416 non-null    object        \n",
      " 7   Proposed_RP         416 non-null    float64       \n",
      " 8   Quantity            416 non-null    float64       \n",
      " 9   AuctUOM             416 non-null    object        \n",
      " 10  Last_Bid_Price      416 non-null    int64         \n",
      " 11  total_amt           416 non-null    float64       \n",
      " 12  Material_Code       416 non-null    int64         \n",
      " 13  ProductDescription  416 non-null    object        \n",
      "dtypes: datetime64[ns](1), float64(3), int64(3), object(7)\n",
      "memory usage: 45.6+ KB\n",
      "None\n",
      "                        Auction_Date        SCode    Proposed_RP    Quantity  \\\n",
      "count                            416   416.000000     416.000000  416.000000   \n",
      "mean   2025-03-10 10:26:32.307692544  3098.317308  158341.426346   43.359349   \n",
      "min              2025-01-03 00:00:00  1100.000000   25000.000000    0.019000   \n",
      "25%              2025-01-30 00:00:00  1500.000000   32333.330000    7.315250   \n",
      "50%              2025-02-24 00:00:00  3200.000000   33966.670000   16.032500   \n",
      "75%              2025-03-27 06:00:00  4100.000000  188041.665000   54.250000   \n",
      "max              2025-07-08 00:00:00  7500.000000  530000.000000  299.925000   \n",
      "std                              NaN  1457.121128  190972.523465   57.274341   \n",
      "\n",
      "       Last_Bid_Price     total_amt  Material_Code  \n",
      "count      416.000000  4.160000e+02   4.160000e+02  \n",
      "mean    163148.557692  4.871745e+06   8.388979e+08  \n",
      "min      20100.000000  4.688790e+05   8.388811e+08  \n",
      "25%      31900.000000  2.233866e+06   8.389001e+08  \n",
      "50%      33800.000000  3.795389e+06   8.389001e+08  \n",
      "75%     191000.000000  6.967325e+06   8.389030e+08  \n",
      "max     557000.000000  1.928785e+07   8.389110e+08  \n",
      "std     199762.985821  3.472367e+06   9.765451e+03  \n",
      "['Catalogue_No', 'Auction_Date', 'Plant', 'Plant_Code', 'SCode', 'State', 'H1_Buyer_Name', 'Proposed_RP', 'Quantity', 'AuctUOM', 'Last_Bid_Price', 'total_amt', 'Material_Code', 'ProductDescription']\n",
      "Catalogue_No          0\n",
      "Auction_Date          0\n",
      "Plant                 0\n",
      "Plant_Code            0\n",
      "SCode                 0\n",
      "State                 0\n",
      "H1_Buyer_Name         0\n",
      "Proposed_RP           0\n",
      "Quantity              0\n",
      "AuctUOM               0\n",
      "Last_Bid_Price        0\n",
      "total_amt             0\n",
      "Material_Code         0\n",
      "ProductDescription    0\n",
      "dtype: int64\n",
      "0\n",
      "(416, 14)\n",
      "Catalogue_No          297\n",
      "Auction_Date          102\n",
      "Plant                  89\n",
      "Plant_Code             89\n",
      "SCode                  16\n",
      "State                  16\n",
      "H1_Buyer_Name          83\n",
      "Proposed_RP           143\n",
      "Quantity              333\n",
      "AuctUOM                 1\n",
      "Last_Bid_Price        138\n",
      "total_amt             292\n",
      "Material_Code          11\n",
      "ProductDescription     11\n",
      "dtype: int64\n"
     ]
    }
   ],
   "source": [
    "#CHECKING MERGED DATA\n",
    "merged_df = pd.read_excel('../data/merged_data.xlsx')\n",
    "print(merged_df.head())\n",
    "print(merged_df.tail())\n",
    "print(merged_df.info())\n",
    "print(merged_df.describe())\n",
    "print(merged_df.columns.tolist())\n",
    "print(merged_df.isnull().sum())\n",
    "print(merged_df.duplicated().sum())\n",
    "print(merged_df.shape)\n",
    "print(merged_df.nunique())"
   ]
  }
 ],
 "metadata": {
  "kernelspec": {
   "display_name": "Python 3",
   "language": "python",
   "name": "python3"
  },
  "language_info": {
   "codemirror_mode": {
    "name": "ipython",
    "version": 3
   },
   "file_extension": ".py",
   "mimetype": "text/x-python",
   "name": "python",
   "nbconvert_exporter": "python",
   "pygments_lexer": "ipython3",
   "version": "3.9.11"
  }
 },
 "nbformat": 4,
 "nbformat_minor": 5
}
